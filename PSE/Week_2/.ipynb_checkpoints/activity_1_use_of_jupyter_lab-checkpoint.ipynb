{
 "cells": [
  {
   "cell_type": "code",
   "execution_count": 2,
   "id": "a284ebb9-58cd-4853-b4a8-a6c52572abc5",
   "metadata": {},
   "outputs": [
    {
     "name": "stdout",
     "output_type": "stream",
     "text": [
      "The area of the rectangle is 201.200\n",
      "The square of the area is 40481.440\n"
     ]
    }
   ],
   "source": [
    "# Activity 1: \n",
    "# Write a code to use round , abs and square functions to calculate the area of a rectangle \n",
    "# and try to use both Jupyter Notebook and Py\n",
    "\n",
    "def square(number):\n",
    "    return number**2\n",
    "\n",
    "def area_of_rectangle(length,breadth):\n",
    "    return length*breadth\n",
    "\n",
    "# initial values\n",
    "length = 10.12\n",
    "breadth = -20.12\n",
    "\n",
    "# sanitize the inputs\n",
    "length = round(length)\n",
    "breadth = abs(breadth)\n",
    "\n",
    "area = area_of_rectangle(length, breadth)\n",
    "\n",
    "# print the result\n",
    "print(f\"The area of the rectangle is {area:.3f}\")\n",
    "\n",
    "# print the square of the area\n",
    "print(f\"The square of the area is {square(area):.3f}\")"
   ]
  },
  {
   "cell_type": "code",
   "execution_count": null,
   "id": "160ce5cc-3336-4da2-ae81-3832d3e8413d",
   "metadata": {},
   "outputs": [],
   "source": []
  },
  {
   "cell_type": "code",
   "execution_count": null,
   "id": "c43953fd-4843-4409-93a7-d72547df62b5",
   "metadata": {},
   "outputs": [],
   "source": []
  }
 ],
 "metadata": {
  "kernelspec": {
   "display_name": "Python 3 (ipykernel)",
   "language": "python",
   "name": "python3"
  },
  "language_info": {
   "codemirror_mode": {
    "name": "ipython",
    "version": 3
   },
   "file_extension": ".py",
   "mimetype": "text/x-python",
   "name": "python",
   "nbconvert_exporter": "python",
   "pygments_lexer": "ipython3",
   "version": "3.12.7"
  }
 },
 "nbformat": 4,
 "nbformat_minor": 5
}
