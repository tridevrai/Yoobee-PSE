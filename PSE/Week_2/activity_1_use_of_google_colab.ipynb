{
  "nbformat": 4,
  "nbformat_minor": 0,
  "metadata": {
    "colab": {
      "provenance": []
    },
    "kernelspec": {
      "name": "python3",
      "display_name": "Python 3"
    },
    "language_info": {
      "name": "python"
    }
  },
  "cells": [
    {
      "cell_type": "code",
      "execution_count": 1,
      "metadata": {
        "colab": {
          "base_uri": "https://localhost:8080/"
        },
        "id": "WTHNoeQ9TSUo",
        "outputId": "6e8ec1a9-2b6a-4c40-df1a-e1cf55b15f0c"
      },
      "outputs": [
        {
          "output_type": "stream",
          "name": "stdout",
          "text": [
            "The area of the rectangle is 201.200\n",
            "The square of the area is 40481.440\n"
          ]
        }
      ],
      "source": [
        "# Activity 1:\n",
        "# Write a code to use round , abs and square functions to calculate the area of a rectangle\n",
        "# and try to use both Jupyter Notebook and Py\n",
        "\n",
        "def area_of_rectangle(length, width):\n",
        "    return length * width\n",
        "\n",
        "def square(number):\n",
        "    return number**2\n",
        "\n",
        "# initial values\n",
        "length = 10.12\n",
        "breadth = -20.12\n",
        "\n",
        "# sanitize the inputs\n",
        "length = round(length)\n",
        "breadth = abs(breadth)\n",
        "\n",
        "area = area_of_rectangle(length, breadth)\n",
        "\n",
        "# print the result\n",
        "print(f\"The area of the rectangle is {area:.3f}\")\n",
        "\n",
        "# print the square of the area\n",
        "print(f\"The square of the area is {square(area):.3f}\")\n",
        "\n",
        "\n",
        "\n",
        "\n"
      ]
    }
  ]
}